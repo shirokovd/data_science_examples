{
 "cells": [
  {
   "cell_type": "code",
   "execution_count": 1,
   "id": "3d0f23b3",
   "metadata": {},
   "outputs": [],
   "source": [
    "from sklearn.datasets import load_iris"
   ]
  },
  {
   "cell_type": "code",
   "execution_count": 2,
   "id": "ad7e35e3",
   "metadata": {},
   "outputs": [],
   "source": [
    "iris = load_iris()"
   ]
  },
  {
   "cell_type": "code",
   "execution_count": 3,
   "id": "838af5bf",
   "metadata": {},
   "outputs": [
    {
     "name": "stdout",
     "output_type": "stream",
     "text": [
      ".. _iris_dataset:\n",
      "\n",
      "Iris plants dataset\n",
      "--------------------\n",
      "\n",
      "**Data Set Characteristics:**\n",
      "\n",
      "    :Number of Instances: 150 (50 in each of three classes)\n",
      "    :Number of Attributes: 4 numeric, predictive attributes and the class\n",
      "    :Attribute Information:\n",
      "        - sepal length in cm\n",
      "        - sepal width in cm\n",
      "        - petal length in cm\n",
      "        - petal width in cm\n",
      "        - class:\n",
      "                - Iris-Setosa\n",
      "                - Iris-Versicolour\n",
      "                - Iris-Virginica\n",
      "                \n",
      "    :Summary Statistics:\n",
      "\n",
      "    ============== ==== ==== ======= ===== ====================\n",
      "                    Min  Max   Mean    SD   Class Correlation\n",
      "    ============== ==== ==== ======= ===== ====================\n",
      "    sepal length:   4.3  7.9   5.84   0.83    0.7826\n",
      "    sepal width:    2.0  4.4   3.05   0.43   -0.4194\n",
      "    petal length:   1.0  6.9   3.76   1.76    0.9490  (high!)\n",
      "    petal width:    0.1  2.5   1.20   0.76    0.9565  (high!)\n",
      "    ============== ==== ==== ======= ===== ====================\n",
      "\n",
      "    :Missing Attribute Values: None\n",
      "    :Class Distribution: 33.3% for each of 3 classes.\n",
      "    :Creator: R.A. Fisher\n",
      "    :Donor: Michael Marshall (MARSHALL%PLU@io.arc.nasa.gov)\n",
      "    :Date: July, 1988\n",
      "\n",
      "The famous Iris database, first used by Sir R.A. Fisher. The dataset is taken\n",
      "from Fisher's paper. Note that it's the same as in R, but not as in the UCI\n",
      "Machine Learning Repository, which has two wrong data points.\n",
      "\n",
      "This is perhaps the best known database to be found in the\n",
      "pattern recognition literature.  Fisher's paper is a classic in the field and\n",
      "is referenced frequently to this day.  (See Duda & Hart, for example.)  The\n",
      "data set contains 3 classes of 50 instances each, where each class refers to a\n",
      "type of iris plant.  One class is linearly separable from the other 2; the\n",
      "latter are NOT linearly separable from each other.\n",
      "\n",
      ".. topic:: References\n",
      "\n",
      "   - Fisher, R.A. \"The use of multiple measurements in taxonomic problems\"\n",
      "     Annual Eugenics, 7, Part II, 179-188 (1936); also in \"Contributions to\n",
      "     Mathematical Statistics\" (John Wiley, NY, 1950).\n",
      "   - Duda, R.O., & Hart, P.E. (1973) Pattern Classification and Scene Analysis.\n",
      "     (Q327.D83) John Wiley & Sons.  ISBN 0-471-22361-1.  See page 218.\n",
      "   - Dasarathy, B.V. (1980) \"Nosing Around the Neighborhood: A New System\n",
      "     Structure and Classification Rule for Recognition in Partially Exposed\n",
      "     Environments\".  IEEE Transactions on Pattern Analysis and Machine\n",
      "     Intelligence, Vol. PAMI-2, No. 1, 67-71.\n",
      "   - Gates, G.W. (1972) \"The Reduced Nearest Neighbor Rule\".  IEEE Transactions\n",
      "     on Information Theory, May 1972, 431-433.\n",
      "   - See also: 1988 MLC Proceedings, 54-64.  Cheeseman et al\"s AUTOCLASS II\n",
      "     conceptual clustering system finds 3 classes in the data.\n",
      "   - Many, many more ...\n"
     ]
    }
   ],
   "source": [
    "print(iris.DESCR)"
   ]
  },
  {
   "cell_type": "code",
   "execution_count": 4,
   "id": "ed1115da",
   "metadata": {},
   "outputs": [],
   "source": [
    "X = iris.data\n",
    "y = iris.target"
   ]
  },
  {
   "cell_type": "code",
   "execution_count": 5,
   "id": "fc30a8c1",
   "metadata": {},
   "outputs": [],
   "source": [
    "from sklearn.model_selection import train_test_split\n",
    "X_train, X_test, y_train, y_test = train_test_split(X, y, test_size=0.2, random_state=11)"
   ]
  },
  {
   "cell_type": "code",
   "execution_count": 6,
   "id": "d0731ede",
   "metadata": {},
   "outputs": [],
   "source": [
    "import xgboost as xgb"
   ]
  },
  {
   "cell_type": "code",
   "execution_count": 7,
   "id": "a961b2f7",
   "metadata": {},
   "outputs": [],
   "source": [
    "dtrain = xgb.DMatrix(X_train, label=y_train, feature_names=iris.feature_names)\n",
    "dtest = xgb.DMatrix(X_test, label=y_test, feature_names=iris.feature_names)"
   ]
  },
  {
   "cell_type": "code",
   "execution_count": 8,
   "id": "94c116a2",
   "metadata": {
    "scrolled": true
   },
   "outputs": [
    {
     "name": "stdout",
     "output_type": "stream",
     "text": [
      "[15:20:01] WARNING: ..\\src\\learner.cc:1095: Starting in XGBoost 1.3.0, the default evaluation metric used with the objective 'multi:softprob' was changed from 'merror' to 'mlogloss'. Explicitly set eval_metric if you'd like to restore the old behavior.\n",
      "[0]\ttrain-mlogloss:0.85379\ttest-mlogloss:0.86806\n",
      "[1]\ttrain-mlogloss:0.68064\ttest-mlogloss:0.70855\n",
      "[2]\ttrain-mlogloss:0.55189\ttest-mlogloss:0.59003\n",
      "[3]\ttrain-mlogloss:0.45144\ttest-mlogloss:0.49175\n",
      "[4]\ttrain-mlogloss:0.37345\ttest-mlogloss:0.42030\n",
      "[5]\ttrain-mlogloss:0.31204\ttest-mlogloss:0.35941\n",
      "[6]\ttrain-mlogloss:0.26250\ttest-mlogloss:0.31072\n",
      "[7]\ttrain-mlogloss:0.22270\ttest-mlogloss:0.27109\n",
      "[8]\ttrain-mlogloss:0.18832\ttest-mlogloss:0.23876\n",
      "[9]\ttrain-mlogloss:0.16042\ttest-mlogloss:0.21316\n",
      "[10]\ttrain-mlogloss:0.13802\ttest-mlogloss:0.19410\n",
      "[11]\ttrain-mlogloss:0.11928\ttest-mlogloss:0.17807\n",
      "[12]\ttrain-mlogloss:0.10416\ttest-mlogloss:0.16656\n",
      "[13]\ttrain-mlogloss:0.09044\ttest-mlogloss:0.16332\n",
      "[14]\ttrain-mlogloss:0.07916\ttest-mlogloss:0.16242\n",
      "[15]\ttrain-mlogloss:0.07011\ttest-mlogloss:0.16292\n",
      "[16]\ttrain-mlogloss:0.06247\ttest-mlogloss:0.16532\n",
      "[17]\ttrain-mlogloss:0.05646\ttest-mlogloss:0.16520\n",
      "[18]\ttrain-mlogloss:0.05099\ttest-mlogloss:0.16940\n",
      "[19]\ttrain-mlogloss:0.04645\ttest-mlogloss:0.17419\n",
      "[20]\ttrain-mlogloss:0.04265\ttest-mlogloss:0.17951\n",
      "[21]\ttrain-mlogloss:0.03949\ttest-mlogloss:0.18504\n",
      "[22]\ttrain-mlogloss:0.03660\ttest-mlogloss:0.18230\n",
      "[23]\ttrain-mlogloss:0.03440\ttest-mlogloss:0.18490\n",
      "[24]\ttrain-mlogloss:0.03257\ttest-mlogloss:0.18956\n",
      "[25]\ttrain-mlogloss:0.03043\ttest-mlogloss:0.18933\n",
      "[26]\ttrain-mlogloss:0.02889\ttest-mlogloss:0.19087\n",
      "[27]\ttrain-mlogloss:0.02752\ttest-mlogloss:0.19296\n",
      "[28]\ttrain-mlogloss:0.02666\ttest-mlogloss:0.19339\n",
      "[29]\ttrain-mlogloss:0.02608\ttest-mlogloss:0.19157\n",
      "[30]\ttrain-mlogloss:0.02540\ttest-mlogloss:0.19284\n",
      "[31]\ttrain-mlogloss:0.02476\ttest-mlogloss:0.19593\n",
      "[32]\ttrain-mlogloss:0.02433\ttest-mlogloss:0.19503\n",
      "[33]\ttrain-mlogloss:0.02394\ttest-mlogloss:0.19520\n",
      "[34]\ttrain-mlogloss:0.02342\ttest-mlogloss:0.19739\n",
      "[35]\ttrain-mlogloss:0.02305\ttest-mlogloss:0.19661\n",
      "[36]\ttrain-mlogloss:0.02270\ttest-mlogloss:0.19692\n",
      "[37]\ttrain-mlogloss:0.02241\ttest-mlogloss:0.19750\n",
      "[38]\ttrain-mlogloss:0.02207\ttest-mlogloss:0.19892\n",
      "[39]\ttrain-mlogloss:0.02183\ttest-mlogloss:0.19908\n",
      "[40]\ttrain-mlogloss:0.02154\ttest-mlogloss:0.19933\n",
      "[41]\ttrain-mlogloss:0.02125\ttest-mlogloss:0.20069\n",
      "[42]\ttrain-mlogloss:0.02104\ttest-mlogloss:0.20082\n",
      "[43]\ttrain-mlogloss:0.02083\ttest-mlogloss:0.20098\n",
      "[44]\ttrain-mlogloss:0.02059\ttest-mlogloss:0.20219\n",
      "[45]\ttrain-mlogloss:0.02038\ttest-mlogloss:0.20160\n",
      "[46]\ttrain-mlogloss:0.02019\ttest-mlogloss:0.20441\n",
      "[47]\ttrain-mlogloss:0.02003\ttest-mlogloss:0.20393\n",
      "[48]\ttrain-mlogloss:0.01989\ttest-mlogloss:0.20596\n",
      "[49]\ttrain-mlogloss:0.01969\ttest-mlogloss:0.20622\n",
      "[50]\ttrain-mlogloss:0.01955\ttest-mlogloss:0.20577\n",
      "[51]\ttrain-mlogloss:0.01941\ttest-mlogloss:0.20535\n",
      "[52]\ttrain-mlogloss:0.01928\ttest-mlogloss:0.20728\n",
      "[53]\ttrain-mlogloss:0.01916\ttest-mlogloss:0.20684\n",
      "[54]\ttrain-mlogloss:0.01903\ttest-mlogloss:0.20642\n",
      "[55]\ttrain-mlogloss:0.01892\ttest-mlogloss:0.20827\n",
      "[56]\ttrain-mlogloss:0.01880\ttest-mlogloss:0.20783\n",
      "[57]\ttrain-mlogloss:0.01869\ttest-mlogloss:0.20742\n",
      "[58]\ttrain-mlogloss:0.01858\ttest-mlogloss:0.20919\n",
      "[59]\ttrain-mlogloss:0.01843\ttest-mlogloss:0.20872\n",
      "[60]\ttrain-mlogloss:0.01833\ttest-mlogloss:0.21046\n",
      "[61]\ttrain-mlogloss:0.01823\ttest-mlogloss:0.21006\n",
      "[62]\ttrain-mlogloss:0.01813\ttest-mlogloss:0.20970\n",
      "[63]\ttrain-mlogloss:0.01804\ttest-mlogloss:0.21136\n",
      "[64]\ttrain-mlogloss:0.01795\ttest-mlogloss:0.21097\n",
      "[65]\ttrain-mlogloss:0.01786\ttest-mlogloss:0.21230\n",
      "[66]\ttrain-mlogloss:0.01777\ttest-mlogloss:0.21188\n",
      "[67]\ttrain-mlogloss:0.01769\ttest-mlogloss:0.21149\n",
      "[68]\ttrain-mlogloss:0.01760\ttest-mlogloss:0.21088\n",
      "[69]\ttrain-mlogloss:0.01749\ttest-mlogloss:0.21279\n",
      "[70]\ttrain-mlogloss:0.01737\ttest-mlogloss:0.21230\n",
      "[71]\ttrain-mlogloss:0.01729\ttest-mlogloss:0.21191\n",
      "[72]\ttrain-mlogloss:0.01721\ttest-mlogloss:0.21340\n",
      "[73]\ttrain-mlogloss:0.01714\ttest-mlogloss:0.21300\n",
      "[74]\ttrain-mlogloss:0.01706\ttest-mlogloss:0.21239\n",
      "[75]\ttrain-mlogloss:0.01696\ttest-mlogloss:0.21419\n",
      "[76]\ttrain-mlogloss:0.01688\ttest-mlogloss:0.21263\n",
      "[77]\ttrain-mlogloss:0.01681\ttest-mlogloss:0.21207\n",
      "[78]\ttrain-mlogloss:0.01674\ttest-mlogloss:0.21167\n",
      "[79]\ttrain-mlogloss:0.01667\ttest-mlogloss:0.21281\n",
      "[80]\ttrain-mlogloss:0.01661\ttest-mlogloss:0.21239\n",
      "[81]\ttrain-mlogloss:0.01654\ttest-mlogloss:0.21374\n",
      "[82]\ttrain-mlogloss:0.01648\ttest-mlogloss:0.21229\n",
      "[83]\ttrain-mlogloss:0.01641\ttest-mlogloss:0.21177\n",
      "[84]\ttrain-mlogloss:0.01635\ttest-mlogloss:0.21288\n",
      "[85]\ttrain-mlogloss:0.01629\ttest-mlogloss:0.21247\n",
      "[86]\ttrain-mlogloss:0.01623\ttest-mlogloss:0.21354\n",
      "[87]\ttrain-mlogloss:0.01617\ttest-mlogloss:0.21211\n",
      "[88]\ttrain-mlogloss:0.01611\ttest-mlogloss:0.21160\n",
      "[89]\ttrain-mlogloss:0.01605\ttest-mlogloss:0.21265\n",
      "[90]\ttrain-mlogloss:0.01599\ttest-mlogloss:0.21225\n",
      "[91]\ttrain-mlogloss:0.01594\ttest-mlogloss:0.21326\n",
      "[92]\ttrain-mlogloss:0.01588\ttest-mlogloss:0.21187\n",
      "[93]\ttrain-mlogloss:0.01583\ttest-mlogloss:0.21138\n",
      "[94]\ttrain-mlogloss:0.01578\ttest-mlogloss:0.21104\n",
      "[95]\ttrain-mlogloss:0.01573\ttest-mlogloss:0.21057\n",
      "[96]\ttrain-mlogloss:0.01568\ttest-mlogloss:0.20927\n",
      "[97]\ttrain-mlogloss:0.01563\ttest-mlogloss:0.20888\n",
      "[98]\ttrain-mlogloss:0.01558\ttest-mlogloss:0.20857\n",
      "[99]\ttrain-mlogloss:0.01554\ttest-mlogloss:0.20829\n",
      "[100]\ttrain-mlogloss:0.01550\ttest-mlogloss:0.20805\n",
      "[101]\ttrain-mlogloss:0.01545\ttest-mlogloss:0.20782\n",
      "[102]\ttrain-mlogloss:0.01541\ttest-mlogloss:0.20746\n",
      "[103]\ttrain-mlogloss:0.01537\ttest-mlogloss:0.20726\n",
      "[104]\ttrain-mlogloss:0.01533\ttest-mlogloss:0.20693\n",
      "[105]\ttrain-mlogloss:0.01529\ttest-mlogloss:0.20675\n",
      "[106]\ttrain-mlogloss:0.01525\ttest-mlogloss:0.20644\n",
      "[107]\ttrain-mlogloss:0.01521\ttest-mlogloss:0.20585\n",
      "[108]\ttrain-mlogloss:0.01518\ttest-mlogloss:0.20558\n",
      "[109]\ttrain-mlogloss:0.01514\ttest-mlogloss:0.20545\n",
      "[110]\ttrain-mlogloss:0.01511\ttest-mlogloss:0.20519\n",
      "[111]\ttrain-mlogloss:0.01507\ttest-mlogloss:0.20500\n",
      "[112]\ttrain-mlogloss:0.01504\ttest-mlogloss:0.20439\n",
      "[113]\ttrain-mlogloss:0.01500\ttest-mlogloss:0.20484\n"
     ]
    }
   ],
   "source": [
    "param = {\n",
    "   'max_depth': 4,\n",
    "   'eta': 0.2,\n",
    "   'objective': 'multi:softprob',\n",
    "   'num_class': 3}\n",
    "num_round = 1000\n",
    "evallist = [(dtrain, 'train'), (dtest, 'test')]\n",
    "evals_result = {}\n",
    "bst = xgb.train(param, dtrain, num_round, evals=evallist, early_stopping_rounds=100, evals_result=evals_result)"
   ]
  },
  {
   "cell_type": "code",
   "execution_count": 9,
   "id": "4530d5ad",
   "metadata": {},
   "outputs": [
    {
     "data": {
      "text/plain": [
       "(0.162416, 14)"
      ]
     },
     "execution_count": 9,
     "metadata": {},
     "output_type": "execute_result"
    }
   ],
   "source": [
    "bst.best_score, bst.best_iteration"
   ]
  },
  {
   "cell_type": "code",
   "execution_count": 10,
   "id": "bbfb4540",
   "metadata": {
    "scrolled": true
   },
   "outputs": [
    {
     "data": {
      "text/plain": [
       "{'train': OrderedDict([('mlogloss',\n",
       "               [0.853792,\n",
       "                0.680642,\n",
       "                0.551891,\n",
       "                0.451441,\n",
       "                0.373446,\n",
       "                0.312041,\n",
       "                0.262503,\n",
       "                0.222704,\n",
       "                0.188322,\n",
       "                0.160416,\n",
       "                0.138023,\n",
       "                0.119276,\n",
       "                0.104165,\n",
       "                0.09044,\n",
       "                0.079164,\n",
       "                0.070108,\n",
       "                0.062473,\n",
       "                0.056462,\n",
       "                0.050985,\n",
       "                0.046445,\n",
       "                0.04265,\n",
       "                0.039487,\n",
       "                0.036605,\n",
       "                0.034398,\n",
       "                0.032571,\n",
       "                0.030427,\n",
       "                0.02889,\n",
       "                0.027516,\n",
       "                0.026661,\n",
       "                0.026084,\n",
       "                0.025396,\n",
       "                0.024756,\n",
       "                0.024334,\n",
       "                0.023943,\n",
       "                0.023418,\n",
       "                0.023055,\n",
       "                0.022696,\n",
       "                0.022413,\n",
       "                0.022074,\n",
       "                0.021825,\n",
       "                0.021538,\n",
       "                0.021253,\n",
       "                0.021035,\n",
       "                0.020826,\n",
       "                0.020595,\n",
       "                0.02038,\n",
       "                0.020186,\n",
       "                0.020034,\n",
       "                0.01989,\n",
       "                0.019688,\n",
       "                0.019547,\n",
       "                0.019413,\n",
       "                0.019284,\n",
       "                0.019156,\n",
       "                0.019034,\n",
       "                0.018916,\n",
       "                0.018799,\n",
       "                0.018688,\n",
       "                0.01858,\n",
       "                0.018433,\n",
       "                0.018331,\n",
       "                0.018231,\n",
       "                0.018135,\n",
       "                0.018041,\n",
       "                0.017949,\n",
       "                0.017861,\n",
       "                0.017772,\n",
       "                0.017687,\n",
       "                0.017605,\n",
       "                0.017485,\n",
       "                0.017366,\n",
       "                0.017288,\n",
       "                0.017211,\n",
       "                0.017135,\n",
       "                0.017062,\n",
       "                0.016956,\n",
       "                0.016882,\n",
       "                0.01681,\n",
       "                0.016741,\n",
       "                0.016673,\n",
       "                0.016605,\n",
       "                0.016541,\n",
       "                0.016477,\n",
       "                0.016412,\n",
       "                0.016349,\n",
       "                0.016286,\n",
       "                0.016227,\n",
       "                0.016168,\n",
       "                0.016108,\n",
       "                0.01605,\n",
       "                0.015992,\n",
       "                0.015938,\n",
       "                0.015884,\n",
       "                0.015827,\n",
       "                0.015775,\n",
       "                0.015726,\n",
       "                0.015677,\n",
       "                0.015631,\n",
       "                0.015584,\n",
       "                0.015539,\n",
       "                0.015495,\n",
       "                0.015453,\n",
       "                0.015413,\n",
       "                0.015371,\n",
       "                0.015333,\n",
       "                0.015292,\n",
       "                0.015254,\n",
       "                0.015215,\n",
       "                0.015179,\n",
       "                0.015141,\n",
       "                0.015105,\n",
       "                0.015071,\n",
       "                0.015037,\n",
       "                0.015005,\n",
       "                0.014972])]),\n",
       " 'test': OrderedDict([('mlogloss',\n",
       "               [0.86806,\n",
       "                0.708553,\n",
       "                0.590031,\n",
       "                0.49175,\n",
       "                0.420301,\n",
       "                0.359406,\n",
       "                0.310724,\n",
       "                0.271092,\n",
       "                0.23876,\n",
       "                0.213157,\n",
       "                0.1941,\n",
       "                0.178068,\n",
       "                0.166559,\n",
       "                0.163323,\n",
       "                0.162416,\n",
       "                0.162924,\n",
       "                0.16532,\n",
       "                0.165195,\n",
       "                0.169402,\n",
       "                0.174191,\n",
       "                0.179506,\n",
       "                0.185036,\n",
       "                0.182298,\n",
       "                0.184895,\n",
       "                0.189558,\n",
       "                0.189332,\n",
       "                0.190874,\n",
       "                0.192959,\n",
       "                0.193387,\n",
       "                0.191567,\n",
       "                0.19284,\n",
       "                0.19593,\n",
       "                0.195029,\n",
       "                0.195196,\n",
       "                0.197386,\n",
       "                0.196605,\n",
       "                0.196917,\n",
       "                0.197496,\n",
       "                0.198916,\n",
       "                0.199081,\n",
       "                0.199331,\n",
       "                0.200687,\n",
       "                0.200819,\n",
       "                0.200981,\n",
       "                0.202186,\n",
       "                0.201603,\n",
       "                0.20441,\n",
       "                0.203931,\n",
       "                0.205958,\n",
       "                0.206216,\n",
       "                0.205767,\n",
       "                0.20535,\n",
       "                0.207285,\n",
       "                0.206836,\n",
       "                0.20642,\n",
       "                0.208269,\n",
       "                0.207827,\n",
       "                0.207419,\n",
       "                0.209191,\n",
       "                0.208725,\n",
       "                0.210458,\n",
       "                0.210063,\n",
       "                0.2097,\n",
       "                0.211359,\n",
       "                0.210973,\n",
       "                0.212295,\n",
       "                0.211875,\n",
       "                0.21149,\n",
       "                0.210877,\n",
       "                0.212789,\n",
       "                0.212296,\n",
       "                0.211911,\n",
       "                0.2134,\n",
       "                0.213004,\n",
       "                0.212394,\n",
       "                0.21419,\n",
       "                0.212629,\n",
       "                0.21207,\n",
       "                0.211666,\n",
       "                0.212812,\n",
       "                0.21239,\n",
       "                0.213742,\n",
       "                0.212293,\n",
       "                0.21177,\n",
       "                0.21288,\n",
       "                0.212475,\n",
       "                0.213536,\n",
       "                0.212114,\n",
       "                0.211602,\n",
       "                0.212653,\n",
       "                0.212249,\n",
       "                0.213256,\n",
       "                0.211872,\n",
       "                0.211376,\n",
       "                0.211039,\n",
       "                0.210565,\n",
       "                0.209274,\n",
       "                0.208877,\n",
       "                0.208565,\n",
       "                0.208292,\n",
       "                0.208045,\n",
       "                0.207822,\n",
       "                0.207464,\n",
       "                0.207257,\n",
       "                0.206928,\n",
       "                0.206747,\n",
       "                0.206444,\n",
       "                0.205853,\n",
       "                0.205577,\n",
       "                0.205449,\n",
       "                0.205194,\n",
       "                0.205004,\n",
       "                0.204386,\n",
       "                0.204843,\n",
       "                0.204619])])}"
      ]
     },
     "execution_count": 10,
     "metadata": {},
     "output_type": "execute_result"
    }
   ],
   "source": [
    "evals_result"
   ]
  },
  {
   "cell_type": "code",
   "execution_count": 11,
   "id": "c3e563b0",
   "metadata": {},
   "outputs": [
    {
     "data": {
      "text/plain": [
       "<matplotlib.legend.Legend at 0x2617c62a2e0>"
      ]
     },
     "execution_count": 11,
     "metadata": {},
     "output_type": "execute_result"
    },
    {
     "data": {
      "image/png": "[encoded data removed]",
      "text/plain": [
       "<Figure size 720x504 with 1 Axes>"
      ]
     },
     "metadata": {
      "needs_background": "light"
     },
     "output_type": "display_data"
    }
   ],
   "source": [
    "import matplotlib.pyplot as plt\n",
    "plt.figure(figsize=(10,7))\n",
    "plt.plot(evals_result[\"train\"][\"mlogloss\"], label=\"Training loss\")\n",
    "plt.plot(evals_result[\"test\"][\"mlogloss\"], label=\"Test loss\")\n",
    "plt.axvline(bst.best_iteration + 1, color=\"gray\", label=\"Optimal tree number\")\n",
    "plt.xlabel(\"Number of trees\")\n",
    "plt.ylabel(\"Loss\")\n",
    "plt.legend()"
   ]
  },
  {
   "cell_type": "code",
   "execution_count": 12,
   "id": "dba518c5",
   "metadata": {},
   "outputs": [],
   "source": [
    "ypred = bst.predict(dtest, iteration_range=(0, bst.best_iteration))"
   ]
  },
  {
   "cell_type": "code",
   "execution_count": 13,
   "id": "ffa68016",
   "metadata": {},
   "outputs": [
    {
     "data": {
      "text/plain": [
       "0.9444444444444445"
      ]
     },
     "execution_count": 13,
     "metadata": {},
     "output_type": "execute_result"
    }
   ],
   "source": [
    "import numpy as np\n",
    "from sklearn.metrics import precision_score\n",
    "best_preds = np.asarray([np.argmax(line) for line in ypred])\n",
    "precision_score(y_test, best_preds, average='macro')"
   ]
  },
  {
   "cell_type": "code",
   "execution_count": 14,
   "id": "28d8094b",
   "metadata": {
    "scrolled": false
   },
   "outputs": [
    {
     "data": {
      "text/plain": [
       "array([[0.02862024, 0.03125961, 0.9401202 ],\n",
       "       [0.02862024, 0.03125961, 0.9401202 ],\n",
       "       [0.05525597, 0.6400811 , 0.3046629 ],\n",
       "       [0.02769964, 0.87869495, 0.09360538],\n",
       "       [0.02860364, 0.03182137, 0.93957496],\n",
       "       [0.9409003 , 0.03082632, 0.02827333],\n",
       "       [0.0296483 , 0.9405108 , 0.02984082],\n",
       "       [0.9409003 , 0.03082632, 0.02827333],\n",
       "       [0.9409003 , 0.03082632, 0.02827333],\n",
       "       [0.0280674 , 0.9436829 , 0.02824965],\n",
       "       [0.03943585, 0.74312806, 0.2174361 ],\n",
       "       [0.0280674 , 0.9436829 , 0.02824965],\n",
       "       [0.0296483 , 0.9405108 , 0.02984082],\n",
       "       [0.04869235, 0.07306264, 0.878245  ],\n",
       "       [0.02862024, 0.03125961, 0.9401202 ],\n",
       "       [0.8982102 , 0.07479928, 0.02699052],\n",
       "       [0.02860364, 0.03182137, 0.93957496],\n",
       "       [0.0296483 , 0.9405108 , 0.02984082],\n",
       "       [0.03049103, 0.06873899, 0.90077   ],\n",
       "       [0.04689032, 0.06747951, 0.88563025],\n",
       "       [0.0280674 , 0.9436829 , 0.02824965],\n",
       "       [0.9409003 , 0.03082632, 0.02827333],\n",
       "       [0.9409003 , 0.03082632, 0.02827333],\n",
       "       [0.0296483 , 0.9405108 , 0.02984082],\n",
       "       [0.9409003 , 0.03082632, 0.02827333],\n",
       "       [0.9409003 , 0.03082632, 0.02827333],\n",
       "       [0.0478888 , 0.12161084, 0.8305004 ],\n",
       "       [0.0296483 , 0.9405108 , 0.02984082],\n",
       "       [0.9409003 , 0.03082632, 0.02827333],\n",
       "       [0.02769964, 0.87869495, 0.09360538]], dtype=float32)"
      ]
     },
     "execution_count": 14,
     "metadata": {},
     "output_type": "execute_result"
    }
   ],
   "source": [
    "ypred"
   ]
  },
  {
   "cell_type": "code",
   "execution_count": 15,
   "id": "4f596204",
   "metadata": {},
   "outputs": [
    {
     "data": {
      "text/plain": [
       "array([2, 2, 1, 1, 2, 0, 1, 0, 0, 1, 1, 1, 1, 2, 2, 0, 2, 1, 2, 2, 1, 0,\n",
       "       0, 1, 0, 0, 2, 1, 0, 1], dtype=int64)"
      ]
     },
     "execution_count": 15,
     "metadata": {},
     "output_type": "execute_result"
    }
   ],
   "source": [
    "best_preds"
   ]
  },
  {
   "cell_type": "code",
   "execution_count": 16,
   "id": "acc1310a",
   "metadata": {},
   "outputs": [
    {
     "data": {
      "text/plain": [
       "array([2, 2, 2, 1, 2, 0, 1, 0, 0, 1, 2, 1, 1, 2, 2, 0, 2, 1, 2, 2, 1, 0,\n",
       "       0, 1, 0, 0, 2, 1, 0, 1])"
      ]
     },
     "execution_count": 16,
     "metadata": {},
     "output_type": "execute_result"
    }
   ],
   "source": [
    "y_test"
   ]
  },
  {
   "cell_type": "code",
   "execution_count": 17,
   "id": "a368b39a",
   "metadata": {
    "scrolled": true
   },
   "outputs": [
    {
     "data": {
      "text/plain": [
       "<AxesSubplot:title={'center':'Feature importance'}, xlabel='F score', ylabel='Features'>"
      ]
     },
     "execution_count": 17,
     "metadata": {},
     "output_type": "execute_result"
    },
    {
     "data": {
      "image/png": "[encoded data removed]",
      "text/plain": [
       "<Figure size 432x288 with 1 Axes>"
      ]
     },
     "metadata": {
      "needs_background": "light"
     },
     "output_type": "display_data"
    }
   ],
   "source": [
    "xgb.plot_importance(bst)"
   ]
  },
  {
   "cell_type": "code",
   "execution_count": 34,
   "id": "35b8e604",
   "metadata": {
    "scrolled": false
   },
   "outputs": [
    {
     "data": {
      "image/svg+xml": [
       "<?xml version=\"1.0\" encoding=\"UTF-8\" standalone=\"no\"?>\r\n",
       "<!DOCTYPE svg PUBLIC \"-//W3C//DTD SVG 1.1//EN\"\r\n",
       " \"http://www.w3.org/Graphics/SVG/1.1/DTD/svg11.dtd\">\r\n",
       "<!-- Generated by graphviz version 2.38.0 (20140413.2041)\r\n",
       " -->\r\n",
       "<!-- Title: %3 Pages: 1 -->\r\n",
       "<svg width=\"849pt\" height=\"305pt\"\r\n",
       " viewBox=\"0.00 0.00 849.39 305.00\" xmlns=\"http://www.w3.org/2000/svg\" xmlns:xlink=\"http://www.w3.org/1999/xlink\">\r\n",
       "<g id=\"graph0\" class=\"graph\" transform=\"scale(1 1) rotate(0) translate(4 301)\">\r\n",
       "<title>%3</title>\r\n",
       "<polygon fill=\"white\" stroke=\"none\" points=\"-4,4 -4,-301 845.386,-301 845.386,4 -4,4\"/>\r\n",
       "<!-- 0 -->\r\n",
       "<g id=\"node1\" class=\"node\"><title>0</title>\r\n",
       "<ellipse fill=\"none\" stroke=\"black\" cx=\"375.993\" cy=\"-279\" rx=\"116.979\" ry=\"18\"/>\r\n",
       "<text text-anchor=\"middle\" x=\"375.993\" y=\"-275.3\" font-family=\"Times New Roman,serif\" font-size=\"14.00\">petal width (cm)&lt;1.54999995</text>\r\n",
       "</g>\r\n",
       "<!-- 1 -->\r\n",
       "<g id=\"node2\" class=\"node\"><title>1</title>\r\n",
       "<ellipse fill=\"none\" stroke=\"black\" cx=\"245.993\" cy=\"-192\" rx=\"118.079\" ry=\"18\"/>\r\n",
       "<text text-anchor=\"middle\" x=\"245.993\" y=\"-188.3\" font-family=\"Times New Roman,serif\" font-size=\"14.00\">petal length (cm)&lt;4.85000038</text>\r\n",
       "</g>\r\n",
       "<!-- 0&#45;&gt;1 -->\r\n",
       "<g id=\"edge1\" class=\"edge\"><title>0&#45;&gt;1</title>\r\n",
       "<path fill=\"none\" stroke=\"#0000ff\" d=\"M350.619,-261.409C330.528,-248.273 302.268,-229.795 280.183,-215.355\"/>\r\n",
       "<polygon fill=\"#0000ff\" stroke=\"#0000ff\" points=\"282.032,-212.382 271.747,-209.839 278.202,-218.241 282.032,-212.382\"/>\r\n",
       "<text text-anchor=\"middle\" x=\"353.493\" y=\"-231.8\" font-family=\"Times New Roman,serif\" font-size=\"14.00\">yes, missing</text>\r\n",
       "</g>\r\n",
       "<!-- 2 -->\r\n",
       "<g id=\"node3\" class=\"node\"><title>2</title>\r\n",
       "<ellipse fill=\"none\" stroke=\"black\" cx=\"472.993\" cy=\"-192\" rx=\"90.9839\" ry=\"18\"/>\r\n",
       "<text text-anchor=\"middle\" x=\"472.993\" y=\"-188.3\" font-family=\"Times New Roman,serif\" font-size=\"14.00\">petal width (cm)&lt;1.75</text>\r\n",
       "</g>\r\n",
       "<!-- 0&#45;&gt;2 -->\r\n",
       "<g id=\"edge2\" class=\"edge\"><title>0&#45;&gt;2</title>\r\n",
       "<path fill=\"none\" stroke=\"#ff0000\" d=\"M395.157,-261.207C409.771,-248.401 430.077,-230.607 446.285,-216.404\"/>\r\n",
       "<polygon fill=\"#ff0000\" stroke=\"#ff0000\" points=\"448.655,-218.981 453.869,-209.758 444.041,-213.717 448.655,-218.981\"/>\r\n",
       "<text text-anchor=\"middle\" x=\"437.493\" y=\"-231.8\" font-family=\"Times New Roman,serif\" font-size=\"14.00\">no</text>\r\n",
       "</g>\r\n",
       "<!-- 3 -->\r\n",
       "<g id=\"node4\" class=\"node\"><title>3</title>\r\n",
       "<ellipse fill=\"none\" stroke=\"black\" cx=\"77.9931\" cy=\"-105\" rx=\"77.9862\" ry=\"18\"/>\r\n",
       "<text text-anchor=\"middle\" x=\"77.9931\" y=\"-101.3\" font-family=\"Times New Roman,serif\" font-size=\"14.00\">leaf=&#45;0.115201287</text>\r\n",
       "</g>\r\n",
       "<!-- 1&#45;&gt;3 -->\r\n",
       "<g id=\"edge3\" class=\"edge\"><title>1&#45;&gt;3</title>\r\n",
       "<path fill=\"none\" stroke=\"#0000ff\" d=\"M213.601,-174.611C186.327,-160.812 147.202,-141.016 117.98,-126.231\"/>\r\n",
       "<polygon fill=\"#0000ff\" stroke=\"#0000ff\" points=\"119.371,-123.013 108.868,-121.621 116.211,-129.259 119.371,-123.013\"/>\r\n",
       "<text text-anchor=\"middle\" x=\"207.493\" y=\"-144.8\" font-family=\"Times New Roman,serif\" font-size=\"14.00\">yes, missing</text>\r\n",
       "</g>\r\n",
       "<!-- 4 -->\r\n",
       "<g id=\"node5\" class=\"node\"><title>4</title>\r\n",
       "<ellipse fill=\"none\" stroke=\"black\" cx=\"257.993\" cy=\"-105\" rx=\"83.6854\" ry=\"18\"/>\r\n",
       "<text text-anchor=\"middle\" x=\"257.993\" y=\"-101.3\" font-family=\"Times New Roman,serif\" font-size=\"14.00\">leaf=0.00697498256</text>\r\n",
       "</g>\r\n",
       "<!-- 1&#45;&gt;4 -->\r\n",
       "<g id=\"edge4\" class=\"edge\"><title>1&#45;&gt;4</title>\r\n",
       "<path fill=\"none\" stroke=\"#ff0000\" d=\"M248.421,-173.799C250.064,-162.163 252.269,-146.548 254.148,-133.237\"/>\r\n",
       "<polygon fill=\"#ff0000\" stroke=\"#ff0000\" points=\"257.636,-133.567 255.568,-123.175 250.705,-132.588 257.636,-133.567\"/>\r\n",
       "<text text-anchor=\"middle\" x=\"260.493\" y=\"-144.8\" font-family=\"Times New Roman,serif\" font-size=\"14.00\">no</text>\r\n",
       "</g>\r\n",
       "<!-- 5 -->\r\n",
       "<g id=\"node6\" class=\"node\"><title>5</title>\r\n",
       "<ellipse fill=\"none\" stroke=\"black\" cx=\"461.993\" cy=\"-105\" rx=\"79.0865\" ry=\"18\"/>\r\n",
       "<text text-anchor=\"middle\" x=\"461.993\" y=\"-101.3\" font-family=\"Times New Roman,serif\" font-size=\"14.00\">leaf=0.0273854174</text>\r\n",
       "</g>\r\n",
       "<!-- 2&#45;&gt;5 -->\r\n",
       "<g id=\"edge5\" class=\"edge\"><title>2&#45;&gt;5</title>\r\n",
       "<path fill=\"none\" stroke=\"#0000ff\" d=\"M470.767,-173.799C469.261,-162.163 467.24,-146.548 465.518,-133.237\"/>\r\n",
       "<polygon fill=\"#0000ff\" stroke=\"#0000ff\" points=\"468.97,-132.644 464.216,-123.175 462.028,-133.542 468.97,-132.644\"/>\r\n",
       "<text text-anchor=\"middle\" x=\"502.493\" y=\"-144.8\" font-family=\"Times New Roman,serif\" font-size=\"14.00\">yes, missing</text>\r\n",
       "</g>\r\n",
       "<!-- 6 -->\r\n",
       "<g id=\"node7\" class=\"node\"><title>6</title>\r\n",
       "<ellipse fill=\"none\" stroke=\"black\" cx=\"679.993\" cy=\"-105\" rx=\"120.479\" ry=\"18\"/>\r\n",
       "<text text-anchor=\"middle\" x=\"679.993\" y=\"-101.3\" font-family=\"Times New Roman,serif\" font-size=\"14.00\">sepal length (cm)&lt;5.94999981</text>\r\n",
       "</g>\r\n",
       "<!-- 2&#45;&gt;6 -->\r\n",
       "<g id=\"edge6\" class=\"edge\"><title>2&#45;&gt;6</title>\r\n",
       "<path fill=\"none\" stroke=\"#ff0000\" d=\"M510.96,-175.41C544.817,-161.507 594.568,-141.078 631.335,-125.98\"/>\r\n",
       "<polygon fill=\"#ff0000\" stroke=\"#ff0000\" points=\"632.939,-129.105 640.86,-122.069 630.28,-122.63 632.939,-129.105\"/>\r\n",
       "<text text-anchor=\"middle\" x=\"595.493\" y=\"-144.8\" font-family=\"Times New Roman,serif\" font-size=\"14.00\">no</text>\r\n",
       "</g>\r\n",
       "<!-- 7 -->\r\n",
       "<g id=\"node8\" class=\"node\"><title>7</title>\r\n",
       "<ellipse fill=\"none\" stroke=\"black\" cx=\"592.993\" cy=\"-18\" rx=\"79.0865\" ry=\"18\"/>\r\n",
       "<text text-anchor=\"middle\" x=\"592.993\" y=\"-14.3\" font-family=\"Times New Roman,serif\" font-size=\"14.00\">leaf=0.0450930707</text>\r\n",
       "</g>\r\n",
       "<!-- 6&#45;&gt;7 -->\r\n",
       "<g id=\"edge7\" class=\"edge\"><title>6&#45;&gt;7</title>\r\n",
       "<path fill=\"none\" stroke=\"#0000ff\" d=\"M662.401,-86.9248C656.54,-81.2292 649.981,-74.8459 643.993,-69 635.298,-60.5112 625.787,-51.1944 617.358,-42.9275\"/>\r\n",
       "<polygon fill=\"#0000ff\" stroke=\"#0000ff\" points=\"619.565,-40.1898 609.976,-35.6845 614.662,-45.1863 619.565,-40.1898\"/>\r\n",
       "<text text-anchor=\"middle\" x=\"678.493\" y=\"-57.8\" font-family=\"Times New Roman,serif\" font-size=\"14.00\">yes, missing</text>\r\n",
       "</g>\r\n",
       "<!-- 8 -->\r\n",
       "<g id=\"node9\" class=\"node\"><title>8</title>\r\n",
       "<ellipse fill=\"none\" stroke=\"black\" cx=\"765.993\" cy=\"-18\" rx=\"75.2868\" ry=\"18\"/>\r\n",
       "<text text-anchor=\"middle\" x=\"765.993\" y=\"-14.3\" font-family=\"Times New Roman,serif\" font-size=\"14.00\">leaf=0.145328417</text>\r\n",
       "</g>\r\n",
       "<!-- 6&#45;&gt;8 -->\r\n",
       "<g id=\"edge8\" class=\"edge\"><title>6&#45;&gt;8</title>\r\n",
       "<path fill=\"none\" stroke=\"#ff0000\" d=\"M697.396,-86.799C710.151,-74.1924 727.631,-56.9164 741.752,-42.959\"/>\r\n",
       "<polygon fill=\"#ff0000\" stroke=\"#ff0000\" points=\"744.549,-45.1159 749.201,-35.597 739.628,-40.1373 744.549,-45.1159\"/>\r\n",
       "<text text-anchor=\"middle\" x=\"735.493\" y=\"-57.8\" font-family=\"Times New Roman,serif\" font-size=\"14.00\">no</text>\r\n",
       "</g>\r\n",
       "</g>\r\n",
       "</svg>\r\n"
      ],
      "text/plain": [
       "<graphviz.files.Source at 0x2617c95ba00>"
      ]
     },
     "execution_count": 34,
     "metadata": {},
     "output_type": "execute_result"
    }
   ],
   "source": [
    "xgb.to_graphviz(bst, num_trees=bst.best_iteration)"
   ]
  }
 ],
 "metadata": {
  "kernelspec": {
   "display_name": "Python 3",
   "language": "python",
   "name": "python3"
  },
  "language_info": {
   "codemirror_mode": {
    "name": "ipython",
    "version": 3
   },
   "file_extension": ".py",
   "mimetype": "text/x-python",
   "name": "python",
   "nbconvert_exporter": "python",
   "pygments_lexer": "ipython3",
   "version": "3.8.8"
  }
 },
 "nbformat": 4,
 "nbformat_minor": 5
}
